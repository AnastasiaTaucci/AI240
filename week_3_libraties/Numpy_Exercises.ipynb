{
 "cells": [
  {
   "cell_type": "markdown",
   "metadata": {},
   "source": [
    "# Numpy Exercise for AI 240  - 10459          \n",
    "\n",
    "Instructor- Dr. Uma Gajendragadkar\n",
    "\n",
    "### Exercise 1.1 - If Numpy is not already installed then please install Numpy using below instruction\n",
    "!pip install Numpy "
   ]
  },
  {
   "cell_type": "code",
   "execution_count": 12,
   "metadata": {},
   "outputs": [
    {
     "name": "stdout",
     "output_type": "stream",
     "text": [
      "Requirement already satisfied: Numpy in c:\\users\\anast\\anaconda\\anaconda3\\envs\\my_env\\lib\\site-packages (2.2.4)\n"
     ]
    }
   ],
   "source": [
    "!pip install Numpy"
   ]
  },
  {
   "cell_type": "markdown",
   "metadata": {},
   "source": [
    "### Exercise 1.2 # Import Numpy package using below instruction \n",
    "import numpy as np"
   ]
  },
  {
   "cell_type": "code",
   "execution_count": 16,
   "metadata": {},
   "outputs": [],
   "source": [
    "import numpy as np"
   ]
  },
  {
   "cell_type": "markdown",
   "metadata": {},
   "source": [
    "### Exercise 1.3 ## Example Usage Read below example and execute the cell\n",
    "\n",
    "data = np.array([1,2,3,4,5])\n",
    "\n",
    "print(data)\n",
    "\n",
    "print(len(data))\n",
    "\n",
    "print(type(data))\n",
    "\n",
    "print(data.shape)"
   ]
  },
  {
   "cell_type": "code",
   "execution_count": 4,
   "metadata": {},
   "outputs": [
    {
     "name": "stdout",
     "output_type": "stream",
     "text": [
      "[1 2 3 4 5]\n",
      "5\n",
      "<class 'numpy.ndarray'>\n",
      "(5,)\n"
     ]
    }
   ],
   "source": [
    "data = np.array([1, 2, 3, 4, 5])\n",
    "print(data)\n",
    "print(len(data))\n",
    "print(type(data))\n",
    "print(data.shape)"
   ]
  },
  {
   "cell_type": "markdown",
   "metadata": {},
   "source": [
    "### Exercise 1.4 Do all exercises from Lecture slides. Refer slides shared after the lecture."
   ]
  },
  {
   "cell_type": "code",
   "execution_count": 24,
   "metadata": {},
   "outputs": [
    {
     "name": "stdout",
     "output_type": "stream",
     "text": [
      "[[2 5 9]\n",
      " [5 4 3]]\n",
      "5\n",
      "[1 2 3]\n",
      "[0 1 2 3 4 5 6 7 8]\n",
      "['berry' 'kiwi' 'pear']\n"
     ]
    }
   ],
   "source": [
    "twoD_array = np.array([[2, 5, 9], [5, 4, 3]])\n",
    "print(twoD_array)\n",
    "print(data[4])\n",
    "print(data[0:3])\n",
    "unsorted_data = np.array([5, 8, 6, 4, 7, 2, 3, 1, 0])\n",
    "print(np.sort(unsorted_data))\n",
    "alphabetically_unsorted_data=np.array(['kiwi', 'berry', 'pear'])\n",
    "print(np.sort(alphabetically_data))"
   ]
  },
  {
   "cell_type": "markdown",
   "metadata": {},
   "source": [
    "### Exercise 1.5 Searching Arrays - find method of numpy to search an element in array - You can google for the method\n",
    "\n",
    "Find the indexes where the value is 9:\n",
    "\n",
    "\n",
    "arr = np.array([3, 2, 14, 9, 10, 12])"
   ]
  },
  {
   "cell_type": "code",
   "execution_count": 20,
   "metadata": {},
   "outputs": [
    {
     "name": "stdout",
     "output_type": "stream",
     "text": [
      "(array([3, 6]),)\n"
     ]
    }
   ],
   "source": [
    "arr = np.array([3, 2, 14, 9, 10, 12, 9])\n",
    "indexes = np.where(arr == 9)\n",
    "print(indexes)"
   ]
  },
  {
   "cell_type": "markdown",
   "metadata": {},
   "source": [
    "### Exercise 1.6 Join two arrays given below and print the result.\n",
    "\n",
    "arr1 = np.array([9, 5, 8])\n",
    "\n",
    "arr2 = np.array([55, 89, 76])\n",
    "\n",
    "### Save and submit your notebook in your Github account."
   ]
  },
  {
   "cell_type": "code",
   "execution_count": 22,
   "metadata": {},
   "outputs": [
    {
     "name": "stdout",
     "output_type": "stream",
     "text": [
      "[ 9  5  8 55 89 76]\n"
     ]
    }
   ],
   "source": [
    "arr1 = np.array([9, 5, 8])\n",
    "arr2 = np.array([55, 89, 76])\n",
    "print(np.concatenate((arr1, arr2)))"
   ]
  },
  {
   "cell_type": "code",
   "execution_count": null,
   "metadata": {},
   "outputs": [],
   "source": []
  }
 ],
 "metadata": {
  "kernelspec": {
   "display_name": "Python 3 (ipykernel)",
   "language": "python",
   "name": "python3"
  },
  "language_info": {
   "codemirror_mode": {
    "name": "ipython",
    "version": 3
   },
   "file_extension": ".py",
   "mimetype": "text/x-python",
   "name": "python",
   "nbconvert_exporter": "python",
   "pygments_lexer": "ipython3",
   "version": "3.12.9"
  }
 },
 "nbformat": 4,
 "nbformat_minor": 4
}
